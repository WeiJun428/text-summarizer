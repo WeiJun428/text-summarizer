{
  "nbformat": 4,
  "nbformat_minor": 0,
  "metadata": {
    "colab": {
      "provenance": [],
      "toc_visible": true
    },
    "kernelspec": {
      "name": "python3",
      "display_name": "Python 3"
    },
    "language_info": {
      "name": "python"
    },
    "accelerator": "GPU",
    "gpuClass": "standard"
  },
  "cells": [
    {
      "cell_type": "markdown",
      "source": [
        "# Text Summarization"
      ],
      "metadata": {
        "id": "PyXzJsykVU4y"
      }
    },
    {
      "cell_type": "markdown",
      "source": [
        "## Import libraries and datasets"
      ],
      "metadata": {
        "id": "de8dVWZpVaHP"
      }
    },
    {
      "cell_type": "code",
      "source": [
        "import os\n",
        "import string\n",
        "import random\n",
        "import re\n",
        "import time\n",
        "import math\n",
        "import unicodedata\n",
        "\n",
        "import numpy as np\n",
        "import pandas as pd\n",
        "\n",
        "import torch\n",
        "import torch.nn as nn\n",
        "from torch import optim\n",
        "import torch.nn.functional as F\n",
        "\n",
        "import nltk\n",
        "from nltk.corpus import stopwords\n",
        "from __future__ import unicode_literals, print_function, division\n",
        "from io import open\n",
        "\n",
        "import matplotlib.pyplot as plt\n",
        "import matplotlib.ticker as ticker\n",
        "%matplotlib inline\n",
        "\n",
        "print('Version', torch.__version__)\n",
        "print('CUDA enabled:', torch.cuda.is_available())\n",
        "device = torch.device(\"cuda\" if torch.cuda.is_available() else \"cpu\")\n",
        "nltk.download('stopwords')"
      ],
      "metadata": {
        "colab": {
          "base_uri": "https://localhost:8080/"
        },
        "id": "u1PD6Rt2BsMn",
        "outputId": "052fdb1e-9684-49f4-a7d0-c07f10e27071"
      },
      "execution_count": 1,
      "outputs": [
        {
          "output_type": "stream",
          "name": "stdout",
          "text": [
            "Version 1.13.0+cu116\n",
            "CUDA enabled: True\n"
          ]
        },
        {
          "output_type": "stream",
          "name": "stderr",
          "text": [
            "[nltk_data] Downloading package stopwords to /root/nltk_data...\n",
            "[nltk_data]   Unzipping corpora/stopwords.zip.\n"
          ]
        },
        {
          "output_type": "execute_result",
          "data": {
            "text/plain": [
              "True"
            ]
          },
          "metadata": {},
          "execution_count": 1
        }
      ]
    },
    {
      "cell_type": "code",
      "source": [
        "# Get the datasets\n",
        "if not os.path.exists('data'):\n",
        "  !mkdir data\n",
        "\n",
        "if not os.path.exists('/root/.kaggle'):\n",
        "  !mkdir /root/.kaggle\n",
        "  !echo '{\"username\":\"wjtan428\",\"key\":\"05f8a59f12b5bfd9a2ad4ab4dffd3b4d\"}' > /root/.kaggle/kaggle.json\n",
        "\n",
        "if not os.path.exists('news-summary.zip'):\n",
        "  !kaggle datasets download -d sunnysai12345/news-summary\n",
        "\n",
        "!unzip -n news-summary.zip -d data/\n",
        "!ls data/"
      ],
      "metadata": {
        "colab": {
          "base_uri": "https://localhost:8080/"
        },
        "id": "y2-epn9w6WfG",
        "outputId": "fa2f3760-6920-4729-851a-8adc9baf181f"
      },
      "execution_count": 2,
      "outputs": [
        {
          "output_type": "stream",
          "name": "stdout",
          "text": [
            "Warning: Your Kaggle API key is readable by other users on this system! To fix this, you can run 'chmod 600 /root/.kaggle/kaggle.json'\n",
            "Downloading news-summary.zip to /content\n",
            " 91% 18.0M/19.8M [00:01<00:00, 24.2MB/s]\n",
            "100% 19.8M/19.8M [00:01<00:00, 18.1MB/s]\n",
            "Archive:  news-summary.zip\n",
            "  inflating: data/news_summary.csv   \n",
            "  inflating: data/news_summary_more.csv  \n",
            "news_summary.csv  news_summary_more.csv\n"
          ]
        }
      ]
    },
    {
      "cell_type": "code",
      "source": [
        "data = pd.read_csv('data/news_summary_more.csv', encoding='utf-8')\n",
        "data.head()"
      ],
      "metadata": {
        "id": "yzdKZ28QCR0c",
        "colab": {
          "base_uri": "https://localhost:8080/",
          "height": 206
        },
        "outputId": "2a74d8ea-9728-40f9-f6c4-0fc5e0090150"
      },
      "execution_count": 3,
      "outputs": [
        {
          "output_type": "execute_result",
          "data": {
            "text/plain": [
              "                                           headlines  \\\n",
              "0  upGrad learner switches to career in ML & Al w...   \n",
              "1  Delhi techie wins free food from Swiggy for on...   \n",
              "2  New Zealand end Rohit Sharma-led India's 12-ma...   \n",
              "3  Aegon life iTerm insurance plan helps customer...   \n",
              "4  Have known Hirani for yrs, what if MeToo claim...   \n",
              "\n",
              "                                                text  \n",
              "0  Saurav Kant, an alumnus of upGrad and IIIT-B's...  \n",
              "1  Kunal Shah's credit card bill payment platform...  \n",
              "2  New Zealand defeated India by 8 wickets in the...  \n",
              "3  With Aegon Life iTerm Insurance plan, customer...  \n",
              "4  Speaking about the sexual harassment allegatio...  "
            ],
            "text/html": [
              "\n",
              "  <div id=\"df-ce507c6f-ff7f-483b-b4fd-e760ee6b5726\">\n",
              "    <div class=\"colab-df-container\">\n",
              "      <div>\n",
              "<style scoped>\n",
              "    .dataframe tbody tr th:only-of-type {\n",
              "        vertical-align: middle;\n",
              "    }\n",
              "\n",
              "    .dataframe tbody tr th {\n",
              "        vertical-align: top;\n",
              "    }\n",
              "\n",
              "    .dataframe thead th {\n",
              "        text-align: right;\n",
              "    }\n",
              "</style>\n",
              "<table border=\"1\" class=\"dataframe\">\n",
              "  <thead>\n",
              "    <tr style=\"text-align: right;\">\n",
              "      <th></th>\n",
              "      <th>headlines</th>\n",
              "      <th>text</th>\n",
              "    </tr>\n",
              "  </thead>\n",
              "  <tbody>\n",
              "    <tr>\n",
              "      <th>0</th>\n",
              "      <td>upGrad learner switches to career in ML &amp; Al w...</td>\n",
              "      <td>Saurav Kant, an alumnus of upGrad and IIIT-B's...</td>\n",
              "    </tr>\n",
              "    <tr>\n",
              "      <th>1</th>\n",
              "      <td>Delhi techie wins free food from Swiggy for on...</td>\n",
              "      <td>Kunal Shah's credit card bill payment platform...</td>\n",
              "    </tr>\n",
              "    <tr>\n",
              "      <th>2</th>\n",
              "      <td>New Zealand end Rohit Sharma-led India's 12-ma...</td>\n",
              "      <td>New Zealand defeated India by 8 wickets in the...</td>\n",
              "    </tr>\n",
              "    <tr>\n",
              "      <th>3</th>\n",
              "      <td>Aegon life iTerm insurance plan helps customer...</td>\n",
              "      <td>With Aegon Life iTerm Insurance plan, customer...</td>\n",
              "    </tr>\n",
              "    <tr>\n",
              "      <th>4</th>\n",
              "      <td>Have known Hirani for yrs, what if MeToo claim...</td>\n",
              "      <td>Speaking about the sexual harassment allegatio...</td>\n",
              "    </tr>\n",
              "  </tbody>\n",
              "</table>\n",
              "</div>\n",
              "      <button class=\"colab-df-convert\" onclick=\"convertToInteractive('df-ce507c6f-ff7f-483b-b4fd-e760ee6b5726')\"\n",
              "              title=\"Convert this dataframe to an interactive table.\"\n",
              "              style=\"display:none;\">\n",
              "        \n",
              "  <svg xmlns=\"http://www.w3.org/2000/svg\" height=\"24px\"viewBox=\"0 0 24 24\"\n",
              "       width=\"24px\">\n",
              "    <path d=\"M0 0h24v24H0V0z\" fill=\"none\"/>\n",
              "    <path d=\"M18.56 5.44l.94 2.06.94-2.06 2.06-.94-2.06-.94-.94-2.06-.94 2.06-2.06.94zm-11 1L8.5 8.5l.94-2.06 2.06-.94-2.06-.94L8.5 2.5l-.94 2.06-2.06.94zm10 10l.94 2.06.94-2.06 2.06-.94-2.06-.94-.94-2.06-.94 2.06-2.06.94z\"/><path d=\"M17.41 7.96l-1.37-1.37c-.4-.4-.92-.59-1.43-.59-.52 0-1.04.2-1.43.59L10.3 9.45l-7.72 7.72c-.78.78-.78 2.05 0 2.83L4 21.41c.39.39.9.59 1.41.59.51 0 1.02-.2 1.41-.59l7.78-7.78 2.81-2.81c.8-.78.8-2.07 0-2.86zM5.41 20L4 18.59l7.72-7.72 1.47 1.35L5.41 20z\"/>\n",
              "  </svg>\n",
              "      </button>\n",
              "      \n",
              "  <style>\n",
              "    .colab-df-container {\n",
              "      display:flex;\n",
              "      flex-wrap:wrap;\n",
              "      gap: 12px;\n",
              "    }\n",
              "\n",
              "    .colab-df-convert {\n",
              "      background-color: #E8F0FE;\n",
              "      border: none;\n",
              "      border-radius: 50%;\n",
              "      cursor: pointer;\n",
              "      display: none;\n",
              "      fill: #1967D2;\n",
              "      height: 32px;\n",
              "      padding: 0 0 0 0;\n",
              "      width: 32px;\n",
              "    }\n",
              "\n",
              "    .colab-df-convert:hover {\n",
              "      background-color: #E2EBFA;\n",
              "      box-shadow: 0px 1px 2px rgba(60, 64, 67, 0.3), 0px 1px 3px 1px rgba(60, 64, 67, 0.15);\n",
              "      fill: #174EA6;\n",
              "    }\n",
              "\n",
              "    [theme=dark] .colab-df-convert {\n",
              "      background-color: #3B4455;\n",
              "      fill: #D2E3FC;\n",
              "    }\n",
              "\n",
              "    [theme=dark] .colab-df-convert:hover {\n",
              "      background-color: #434B5C;\n",
              "      box-shadow: 0px 1px 3px 1px rgba(0, 0, 0, 0.15);\n",
              "      filter: drop-shadow(0px 1px 2px rgba(0, 0, 0, 0.3));\n",
              "      fill: #FFFFFF;\n",
              "    }\n",
              "  </style>\n",
              "\n",
              "      <script>\n",
              "        const buttonEl =\n",
              "          document.querySelector('#df-ce507c6f-ff7f-483b-b4fd-e760ee6b5726 button.colab-df-convert');\n",
              "        buttonEl.style.display =\n",
              "          google.colab.kernel.accessAllowed ? 'block' : 'none';\n",
              "\n",
              "        async function convertToInteractive(key) {\n",
              "          const element = document.querySelector('#df-ce507c6f-ff7f-483b-b4fd-e760ee6b5726');\n",
              "          const dataTable =\n",
              "            await google.colab.kernel.invokeFunction('convertToInteractive',\n",
              "                                                     [key], {});\n",
              "          if (!dataTable) return;\n",
              "\n",
              "          const docLinkHtml = 'Like what you see? Visit the ' +\n",
              "            '<a target=\"_blank\" href=https://colab.research.google.com/notebooks/data_table.ipynb>data table notebook</a>'\n",
              "            + ' to learn more about interactive tables.';\n",
              "          element.innerHTML = '';\n",
              "          dataTable['output_type'] = 'display_data';\n",
              "          await google.colab.output.renderOutput(dataTable, element);\n",
              "          const docLink = document.createElement('div');\n",
              "          docLink.innerHTML = docLinkHtml;\n",
              "          element.appendChild(docLink);\n",
              "        }\n",
              "      </script>\n",
              "    </div>\n",
              "  </div>\n",
              "  "
            ]
          },
          "metadata": {},
          "execution_count": 3
        }
      ]
    },
    {
      "cell_type": "markdown",
      "source": [
        "## Miscellanous Helper Function"
      ],
      "metadata": {
        "id": "rYf4TdpmVkjx"
      }
    },
    {
      "cell_type": "code",
      "source": [
        "# Helper Functions\n",
        "def asMinutes(s):\n",
        "    m = math.floor(s / 60)\n",
        "    s -= m * 60\n",
        "    return '%dm %ds' % (m, s)\n",
        "\n",
        "def timeSince(since, percent):\n",
        "    now = time.time()\n",
        "    s = now - since\n",
        "    es = s / (percent)\n",
        "    rs = es - s\n",
        "    return '%s (- %s)' % (asMinutes(s), asMinutes(rs))\n",
        "  \n",
        "def showPlot(points, title = \"Losses\", xlabel = \"Epoch\", ylabel = \"Loss\"):\n",
        "    plt.figure(figsize=(20, 10))\n",
        "    plt.plot(range(len(points)), points)\n",
        "    plt.title(title)\n",
        "    plt.xlabel(xlabel)\n",
        "    plt.ylabel(ylabel)\n",
        "    plt.show()"
      ],
      "metadata": {
        "id": "aF1omr61D4WI"
      },
      "execution_count": null,
      "outputs": []
    },
    {
      "cell_type": "markdown",
      "source": [
        "## Preprocess the data"
      ],
      "metadata": {
        "id": "FE3mN9dWVsMy"
      }
    },
    {
      "cell_type": "code",
      "source": [
        "stop_words = stopwords.words('english')\n",
        "contraction_mapping = {\n",
        "  \"ain't\":\"is not\", \"aren't\":\"are not\", \"can't\":\"cannot\", \"'cause\":\"because\", \"could've\":\"could have\", \"couldn't\":\"could not\", \"didn't\":\"did not\", \"doesn't\":\"does not\", \"don't\":\"do not\", \"hadn't\":\"had not\", \"hasn't\":\"has not\", \"haven't\":\"have not\", \"he'd\":\"he would\", \"he'll\":\"he will\", \"he's\":\"he is\", \"how'd\":\"how did\", \"how'd'y\":\"how do you\", \"how'll\":\"how will\", \"how's\":\"how is\", \"I'd\":\"I would\", \"I'd've\":\"I would have\", \"I'll\":\"I will\", \"I'll've\":\"I will have\", \"I'm\":\"I am\", \"I've\":\"I have\", \"i'd\":\"i would\", \"i'd've\":\"i would have\", \"i'll\":\"i will\", \"i'll've\":\"i will have\", \"i'm\":\"i am\", \"i've\":\"i have\", \"isn't\":\"is not\", \"it'd\":\"it would\", \"it'd've\":\"it would have\", \"it'll\":\"it will\", \"it'll've\":\"it will have\", \"it's\":\"it is\", \"let's\":\"let us\", \"ma'am\":\"madam\", \"mayn't\":\"may not\", \"might've\":\"might have\", \"mightn't\":\"might not\", \"mightn't've\":\"might not have\", \"must've\":\"must have\", \"mustn't\":\"must not\", \"mustn't've\":\"must not have\", \"needn't\":\"need not\", \"needn't've\":\"need not have\", \"o'clock\":\"of the clock\", \"oughtn't\":\"ought not\", \"oughtn't've\":\"ought not have\", \"shan't\":\"shall not\", \"sha'n't\":\"shall not\", \"shan't've\":\"shall not have\", \"she'd\":\"she would\", \"she'd've\":\"she would have\", \"she'll\":\"she will\", \"she'll've\":\"she will have\", \"she's\":\"she is\", \"should've\":\"should have\", \"shouldn't\":\"should not\", \"shouldn't've\":\"should not have\", \"so've\":\"so have\", \"so's\":\"so as\", \"this's\":\"this is\", \"that'd\":\"that would\", \"that'd've\":\"that would have\", \"that's\":\"that is\", \"there'd\":\"there would\", \"there'd've\":\"there would have\", \"there's\":\"there is\", \"here's\":\"here is\", \"they'd\":\"they would\", \"they'd've\":\"they would have\", \"they'll\":\"they will\", \"they'll've\":\"they will have\", \"they're\":\"they are\", \"they've\":\"they have\", \"to've\":\"to have\", \"wasn't\":\"was not\", \"we'd\":\"we would\", \"we'd've\":\"we would have\", \"we'll\":\"we will\", \"we'll've\":\"we will have\", \"we're\":\"we are\", \"we've\":\"we have\", \"weren't\":\"were not\", \"what'll\":\"what will\", \"what'll've\":\"what will have\", \"what're\":\"what are\", \"what's\":\"what is\", \"what've\":\"what have\", \"when's\":\"when is\", \"when've\":\"when have\", \"where'd\":\"where did\", \"where's\":\"where is\", \"where've\":\"where have\", \"who'll\":\"who will\", \"who'll've\":\"who will have\", \"who's\":\"who is\", \"who've\":\"who have\", \"why's\":\"why is\", \"why've\":\"why have\", \"will've\":\"will have\", \"won't\":\"will not\", \"won't've\":\"will not have\", \"would've\":\"would have\", \"wouldn't\":\"would not\", \"wouldn't've\":\"would not have\", \"y'all\":\"you all\", \"y'all'd\":\"you all would\", \"y'all'd've\":\"you all would have\", \"y'all're\":\"you all are\", \"y'all've\":\"you all have\", \"you'd\":\"you would\", \"you'd've\":\"you would have\", \"you'll\":\"you will\", \"you'll've\":\"you will have\", \"you're\":\"you are\", \"you've\":\"you have\"\n",
        "}\n",
        "\n",
        "def preprocess(text):\n",
        "    text = text.lower() # lowercase\n",
        "    text = text.split() # convert have'nt -> have not\n",
        "    for i in range(len(text)):\n",
        "        word = text[i]\n",
        "        if word in contraction_mapping:\n",
        "            text[i] = contraction_mapping[word]\n",
        "    text = \" \".join(text)\n",
        "    text = text.split()\n",
        "    newtext = []\n",
        "    for word in text:\n",
        "        if word not in stop_words:\n",
        "            newtext.append(word)\n",
        "    text = \" \".join(newtext)\n",
        "    text = text.replace(\"'s\",'') # convert your's -> your\n",
        "    text = re.sub(r'\\(.*\\)','',text) # remove (words)\n",
        "    text = re.sub(r'[^a-zA-Z0-9. ]','',text) # remove punctuations\n",
        "    text = re.sub(r'\\.',' . ',text)\n",
        "    return text\n",
        "\n",
        "sample = \"(hello) I'm Wei Jun. Are you Mr. WALL-E?\"\n",
        "print(preprocess(sample))"
      ],
      "metadata": {
        "colab": {
          "base_uri": "https://localhost:8080/"
        },
        "id": "bSXn6KrQCnNu",
        "outputId": "87a65444-60c7-4a77-c57b-9a32dfee6747"
      },
      "execution_count": null,
      "outputs": [
        {
          "output_type": "stream",
          "name": "stdout",
          "text": [
            " wei jun .  mr .  walle\n"
          ]
        }
      ]
    },
    {
      "cell_type": "code",
      "source": [
        "x = data['text'].apply(lambda x:preprocess(x))\n",
        "y = data['headlines'].apply(lambda x:preprocess(x))\n",
        "print(f\"Headline: {y[50]}\\nText: {x[50]}\")"
      ],
      "metadata": {
        "colab": {
          "base_uri": "https://localhost:8080/"
        },
        "id": "EKES5zIpDDlk",
        "outputId": "d55ee118-a7f2-4c34-85e3-4312deef71c0"
      },
      "execution_count": null,
      "outputs": [
        {
          "output_type": "stream",
          "name": "stdout",
          "text": [
            "Headline: yashwant sinha demands probe alleged fund diversion dhfl\n",
            "Text: former finance minister yashwant sinha tuesday demanded probe alleged diversion loans worth 31000 crore dewan housing finance  .  agencies including regulators government failed track nefarious deals said .  comes media report tuesday accused dhfl controlling shareholders diverting funds shell companies buy assets . \n"
          ]
        }
      ]
    },
    {
      "cell_type": "markdown",
      "source": [
        "## Data Loading and Vocabulary"
      ],
      "metadata": {
        "id": "hyf3gcpbVxAE"
      }
    },
    {
      "cell_type": "code",
      "source": [
        "SOS_token = 0\n",
        "EOS_token = 1\n",
        "\n",
        "class Lang:\n",
        "    def __init__(self, name):\n",
        "        self.name = name\n",
        "        self.word2index = {}\n",
        "        self.word2count = {}\n",
        "        self.index2word = {0: \"SOS\", 1: \"EOS\"}\n",
        "        self.n_words = 2  # Count SOS and EOS\n",
        "\n",
        "    def addSentence(self, sentence):\n",
        "        for word in sentence.split(' '):\n",
        "            self.addWord(word)\n",
        "\n",
        "    def addWord(self, word):\n",
        "        if word not in self.word2index:\n",
        "            self.word2index[word] = self.n_words\n",
        "            self.word2count[word] = 1\n",
        "            self.index2word[self.n_words] = word\n",
        "            self.n_words += 1\n",
        "        else:\n",
        "            self.word2count[word] += 1"
      ],
      "metadata": {
        "id": "xABn2P-fDUrq"
      },
      "execution_count": null,
      "outputs": []
    },
    {
      "cell_type": "code",
      "source": [
        "def readLangs(text, summary, reverse=False):\n",
        "    print(\"Reading lines...\")\n",
        "    \n",
        "    # Split every line into pairs and normalize\n",
        "    pairs = [[text[i],summary[i]] for i in range(len(text))]\n",
        "\n",
        "    # Reverse pairs, make Lang instances\n",
        "    if reverse:\n",
        "        pairs = [list(reversed(p)) for p in pairs]\n",
        "        input_lang = Lang(summary)\n",
        "        output_lang = Lang(text)\n",
        "    else:\n",
        "        input_lang = Lang(text)\n",
        "        output_lang = Lang(summary)\n",
        "\n",
        "    return input_lang, output_lang, pairs"
      ],
      "metadata": {
        "id": "TMKkhnVxDcMz"
      },
      "execution_count": null,
      "outputs": []
    },
    {
      "cell_type": "code",
      "source": [
        "def prepareData(lang1, lang2, reverse=False):\n",
        "    input_lang, output_lang, pairs = readLangs(lang1, lang2, reverse)\n",
        "    print(\"Read %s sentence pairs\" % len(pairs))\n",
        "    print(\"Counting words...\")\n",
        "    for pair in pairs:\n",
        "        input_lang.addSentence(pair[0])\n",
        "        output_lang.addSentence(pair[1])\n",
        "    print(\"Counted words:\")\n",
        "    print(input_lang.name, input_lang.n_words)\n",
        "    print(output_lang.name, output_lang.n_words)\n",
        "    return input_lang, output_lang, pairs"
      ],
      "metadata": {
        "id": "7Us-cHFgDejU"
      },
      "execution_count": null,
      "outputs": []
    },
    {
      "cell_type": "code",
      "source": [
        "input_lang, output_lang, pairs = prepareData(x, y , False)\n",
        "print(random.choice(pairs))"
      ],
      "metadata": {
        "colab": {
          "base_uri": "https://localhost:8080/"
        },
        "id": "itU4vh7NDg44",
        "outputId": "226feaaa-9cf7-4421-c0fb-a49acd1a911b"
      },
      "execution_count": null,
      "outputs": [
        {
          "output_type": "stream",
          "name": "stdout",
          "text": [
            "Reading lines...\n",
            "Read 98401 sentence pairs\n",
            "Counting words...\n",
            "Counted words:\n",
            "0        saurav kant alumnus upgrad iiitb pg program ma...\n",
            "1        kunal shah credit card bill payment platform c...\n",
            "2        new zealand defeated india 8 wickets fourth od...\n",
            "3        aegon life iterm insurance plan customers enjo...\n",
            "4        speaking sexual harassment allegations rajkuma...\n",
            "                               ...                        \n",
            "98396    crpf jawan tuesday axed death sharpedged weapo...\n",
            "98397    uff yeh first song sonakshi sinha starrer upco...\n",
            "98398    according reports new version 1999 science fic...\n",
            "98399    new music video shows rapper snoop dogg aiming...\n",
            "98400    madhesi morcha alliance seven political partie...\n",
            "Name: text, Length: 98401, dtype: object 100293\n",
            "0        upgrad learner switches career ml  al 90 salar...\n",
            "1         delhi techie wins free food swiggy one year cred\n",
            "2        new zealand end rohit sharmaled india 12match ...\n",
            "3        aegon life iterm insurance plan helps customer...\n",
            "4                 known hirani yrs metoo claims true sonam\n",
            "                               ...                        \n",
            "98396           crpf jawan axed death maoists chhattisgarh\n",
            "98397        first song sonakshi sinha noor titled uff yeh\n",
            "98398                   the matrix film get reboot reports\n",
            "98399    snoop dogg aims gun clown dressed trump new video\n",
            "98400    madhesi morcha withdraws support nepalese gove...\n",
            "Name: headlines, Length: 98401, dtype: object 41363\n",
            "['union minister manoj sinha said government expects roll 650 branches india post payments bank  april 2018 .  however branch rolled current financial year sinha said .  ippb incorporated public limited company 100 government india equity department posts added . ', '650 india post payments bank branches ready apr']\n"
          ]
        }
      ]
    },
    {
      "cell_type": "markdown",
      "source": [
        "## Model Definition"
      ],
      "metadata": {
        "id": "v-St_KFhV2mp"
      }
    },
    {
      "cell_type": "code",
      "source": [
        "MAX_LENGTH = 90\n",
        "\n",
        "class EncoderRNN(nn.Module):\n",
        "    def __init__(self, input_size, hidden_size):\n",
        "        super(EncoderRNN, self).__init__()\n",
        "        self.hidden_size = hidden_size\n",
        "\n",
        "        self.embedding = nn.Embedding(input_size, hidden_size)\n",
        "        self.gru = nn.GRU(hidden_size, hidden_size)\n",
        "\n",
        "    def forward(self, input, hidden):\n",
        "        embedded = self.embedding(input).view(1, 1, -1)\n",
        "        output = embedded\n",
        "        output, hidden = self.gru(output, hidden)\n",
        "        return output, hidden\n",
        "\n",
        "    def initHidden(self):\n",
        "        return torch.zeros(1, 1, self.hidden_size, device=device)\n",
        "\n",
        "class DecoderRNN(nn.Module):\n",
        "    def __init__(self, hidden_size, output_size):\n",
        "        super(DecoderRNN, self).__init__()\n",
        "        self.hidden_size = hidden_size\n",
        "\n",
        "        self.embedding = nn.Embedding(output_size, hidden_size)\n",
        "        self.gru = nn.GRU(hidden_size, hidden_size)\n",
        "        self.out = nn.Linear(hidden_size, output_size)\n",
        "        self.softmax = nn.LogSoftmax(dim=1)\n",
        "\n",
        "    def forward(self, input, hidden):\n",
        "        output = self.embedding(input).view(1, 1, -1)\n",
        "        output = F.relu(output)\n",
        "        output, hidden = self.gru(output, hidden)\n",
        "        output = self.softmax(self.out(output[0]))\n",
        "        return output, hidden\n",
        "\n",
        "    def initHidden(self):\n",
        "        return torch.zeros(1, 1, self.hidden_size, device=device)\n",
        "\n",
        "class AttnDecoderRNN(nn.Module):\n",
        "    def __init__(self, hidden_size, output_size, dropout_p=0.1, max_length=MAX_LENGTH):\n",
        "        super(AttnDecoderRNN, self).__init__()\n",
        "        self.hidden_size = hidden_size\n",
        "        self.output_size = output_size\n",
        "        self.dropout_p = dropout_p\n",
        "        self.max_length = max_length\n",
        "\n",
        "        self.embedding = nn.Embedding(self.output_size, self.hidden_size)\n",
        "        self.attn = nn.Linear(self.hidden_size * 2, self.max_length)\n",
        "        self.attn_combine = nn.Linear(self.hidden_size * 2, self.hidden_size)\n",
        "        self.dropout = nn.Dropout(self.dropout_p)\n",
        "        self.gru = nn.GRU(self.hidden_size, self.hidden_size)\n",
        "        self.out = nn.Linear(self.hidden_size, self.output_size)\n",
        "\n",
        "    def forward(self, input, hidden, encoder_outputs):\n",
        "        embedded = self.embedding(input).view(1, 1, -1)\n",
        "        embedded = self.dropout(embedded)\n",
        "\n",
        "        attn_weights = F.softmax(\n",
        "            self.attn(torch.cat((embedded[0], hidden[0]), 1)), dim=1)\n",
        "        attn_applied = torch.bmm(attn_weights.unsqueeze(0),\n",
        "                                 encoder_outputs.unsqueeze(0))\n",
        "\n",
        "        output = torch.cat((embedded[0], attn_applied[0]), 1)\n",
        "        output = self.attn_combine(output).unsqueeze(0)\n",
        "\n",
        "        output = F.relu(output)\n",
        "        output, hidden = self.gru(output, hidden)\n",
        "\n",
        "        output = F.log_softmax(self.out(output[0]), dim=1)\n",
        "        return output, hidden, attn_weights\n",
        "\n",
        "    def initHidden(self):\n",
        "        return torch.zeros(1, 1, self.hidden_size, device=device)"
      ],
      "metadata": {
        "id": "GJjD-_URDjze"
      },
      "execution_count": null,
      "outputs": []
    },
    {
      "cell_type": "code",
      "source": [
        "def indexesFromSentence(lang, sentence):\n",
        "    return [lang.word2index[word] for word in sentence.split(' ')]\n",
        "\n",
        "def tensorFromSentence(lang, sentence):\n",
        "    indexes = indexesFromSentence(lang, sentence)\n",
        "    indexes.append(EOS_token)\n",
        "    return torch.tensor(indexes, dtype=torch.long, device=device).view(-1, 1)\n",
        "\n",
        "def tensorsFromPair(pair):\n",
        "    input_tensor = tensorFromSentence(input_lang, pair[0])\n",
        "    target_tensor = tensorFromSentence(output_lang, pair[1])\n",
        "    return (input_tensor, target_tensor)"
      ],
      "metadata": {
        "id": "o8mCSWmZDnUQ"
      },
      "execution_count": null,
      "outputs": []
    },
    {
      "cell_type": "markdown",
      "source": [
        "## Training"
      ],
      "metadata": {
        "id": "uwlDFhDsV7gF"
      }
    },
    {
      "cell_type": "code",
      "source": [
        "teacher_forcing_ratio = 0.5\n",
        "def train(input_tensor, target_tensor, encoder, decoder, encoder_optimizer, decoder_optimizer, criterion, max_length=MAX_LENGTH):\n",
        "    encoder_hidden = encoder.initHidden()\n",
        "\n",
        "    encoder_optimizer.zero_grad()\n",
        "    decoder_optimizer.zero_grad()\n",
        "\n",
        "    input_length = input_tensor.size(0)\n",
        "    target_length = target_tensor.size(0)\n",
        "\n",
        "    encoder_outputs = torch.zeros(max_length, encoder.hidden_size, device=device)\n",
        "\n",
        "    loss = 0\n",
        "\n",
        "    for ei in range(input_length):\n",
        "        encoder_output, encoder_hidden = encoder(\n",
        "            input_tensor[ei], encoder_hidden)\n",
        "        encoder_outputs[ei] = encoder_output[0, 0]\n",
        "\n",
        "    decoder_input = torch.tensor([[SOS_token]], device=device)\n",
        "\n",
        "    decoder_hidden = encoder_hidden\n",
        "\n",
        "    use_teacher_forcing = True if random.random() < teacher_forcing_ratio else False\n",
        "\n",
        "    if use_teacher_forcing:\n",
        "        # Teacher forcing: Feed the target as the next input\n",
        "        for di in range(target_length):\n",
        "            decoder_output, decoder_hidden, decoder_attention = decoder(\n",
        "                decoder_input, decoder_hidden, encoder_outputs)\n",
        "            loss += criterion(decoder_output, target_tensor[di])\n",
        "            decoder_input = target_tensor[di]  # Teacher forcing\n",
        "\n",
        "    else:\n",
        "        # Without teacher forcing: use its own predictions as the next input\n",
        "        for di in range(target_length):\n",
        "            decoder_output, decoder_hidden, decoder_attention = decoder(\n",
        "                decoder_input, decoder_hidden, encoder_outputs)\n",
        "            topv, topi = decoder_output.topk(1)\n",
        "            decoder_input = topi.squeeze().detach()  # detach from history as input\n",
        "\n",
        "            loss += criterion(decoder_output, target_tensor[di])\n",
        "            if decoder_input.item() == EOS_token:\n",
        "                break\n",
        "\n",
        "    loss.backward()\n",
        "\n",
        "    encoder_optimizer.step()\n",
        "    decoder_optimizer.step()\n",
        "\n",
        "    return loss.item() / target_length"
      ],
      "metadata": {
        "id": "q_IErHk9D26d"
      },
      "execution_count": null,
      "outputs": []
    },
    {
      "cell_type": "code",
      "source": [
        "BATCH_SIZE = 256\n",
        "\n",
        "def trainIters(encoder, decoder, n_epoch, print_every=BATCH_SIZE, plot_every=BATCH_SIZE, learning_rate=0.005):\n",
        "    print(\"Training....\")\n",
        "    start = time.time()\n",
        "    plot_losses = []\n",
        "    print_loss_total = 0  # Reset every print_every\n",
        "    plot_loss_total = 0  # Reset every plot_every\n",
        "    n_iters = n_epoch * BATCH_SIZE\n",
        "\n",
        "    encoder_optimizer = optim.SGD(encoder.parameters(), lr=learning_rate)\n",
        "    decoder_optimizer = optim.SGD(decoder.parameters(), lr=learning_rate)\n",
        "    training_pairs = [tensorsFromPair(random.choice(pairs))\n",
        "                      for i in range(n_iters)]\n",
        "    criterion = nn.NLLLoss()\n",
        "\n",
        "    if os.path.exists(\"model.pt\"):\n",
        "        print(\"Checkpoint founded. Restoring...\")\n",
        "        checkpoint = torch.load(\"model.pt\")\n",
        "        encoder.load_state_dict(checkpoint[\"encoder\"])\n",
        "        attn_decoder.load_state_dict(checkpoint[\"decoder\"])\n",
        "        plot_losses = checkpoint[\"loss\"]\n",
        "        print(f\"Continue from epoch {len(plot_losses)}\")\n",
        "\n",
        "    try:\n",
        "        for iter in range(1, n_iters + 1):\n",
        "            if iter% 1000 == 0:\n",
        "                print(iter,\"/\",n_iters + 1)\n",
        "            training_pair = training_pairs[iter - 1]\n",
        "            input_tensor = training_pair[0]\n",
        "            target_tensor = training_pair[1]\n",
        "\n",
        "            loss = train(input_tensor, target_tensor, encoder,\n",
        "                        decoder, encoder_optimizer, decoder_optimizer, criterion)\n",
        "            print_loss_total += loss\n",
        "            plot_loss_total += loss\n",
        "\n",
        "            if iter % print_every == 0:\n",
        "                print_loss_avg = print_loss_total / print_every\n",
        "                print_loss_total = 0\n",
        "                print('Epoch %d: %s (%d %d%%) %.4f' % (len(plot_losses) + 1, timeSince(start, iter / n_iters),\n",
        "                                            iter, iter / n_iters * 100, print_loss_avg))\n",
        "\n",
        "            if iter % plot_every == 0:\n",
        "                plot_loss_avg = plot_loss_total / plot_every\n",
        "                plot_losses.append(plot_loss_avg)\n",
        "                plot_loss_total = 0\n",
        "    except KeyboardInterrupt as ke:\n",
        "        print('Interrupted')\n",
        "    except:\n",
        "        import traceback\n",
        "        traceback.print_exc()\n",
        "    finally:\n",
        "        print('Saving final model')\n",
        "        torch.save({\n",
        "            'encoder': encoder.state_dict(),\n",
        "            'decoder': decoder.state_dict(),\n",
        "            'loss': plot_losses\n",
        "        }, 'model.pt')\n",
        "        showPlot(plot_losses)\n",
        "    return plot_losses"
      ],
      "metadata": {
        "id": "P0skOgZnD-jz"
      },
      "execution_count": null,
      "outputs": []
    },
    {
      "cell_type": "markdown",
      "source": [
        "## Evaluation"
      ],
      "metadata": {
        "id": "lhg2i2sLV-a9"
      }
    },
    {
      "cell_type": "code",
      "source": [
        "def evaluate(encoder, decoder, sentence, max_length=MAX_LENGTH):\n",
        "    with torch.no_grad():\n",
        "        input_tensor = tensorFromSentence(input_lang, sentence)\n",
        "        input_length = input_tensor.size()[0]\n",
        "        encoder_hidden = encoder.initHidden()\n",
        "\n",
        "        encoder_outputs = torch.zeros(max_length, encoder.hidden_size, device=device)\n",
        "\n",
        "        for ei in range(input_length):\n",
        "            encoder_output, encoder_hidden = encoder(input_tensor[ei],\n",
        "                                                     encoder_hidden)\n",
        "            encoder_outputs[ei] += encoder_output[0, 0]\n",
        "\n",
        "        decoder_input = torch.tensor([[SOS_token]], device=device)  # SOS\n",
        "\n",
        "        decoder_hidden = encoder_hidden\n",
        "\n",
        "        decoded_words = []\n",
        "        decoder_attentions = torch.zeros(max_length, max_length)\n",
        "\n",
        "        for di in range(max_length):\n",
        "            decoder_output, decoder_hidden, decoder_attention = decoder(\n",
        "                decoder_input, decoder_hidden, encoder_outputs)\n",
        "            decoder_attentions[di] = decoder_attention.data\n",
        "            topv, topi = decoder_output.data.topk(1)\n",
        "            if topi.item() == EOS_token:\n",
        "                decoded_words.append('<EOS>')\n",
        "                break\n",
        "            else:\n",
        "                decoded_words.append(output_lang.index2word[topi.item()])\n",
        "\n",
        "            decoder_input = topi.squeeze().detach()\n",
        "\n",
        "        return decoded_words, decoder_attentions[:di + 1]"
      ],
      "metadata": {
        "id": "n1AmS8I2EB3H"
      },
      "execution_count": null,
      "outputs": []
    },
    {
      "cell_type": "code",
      "source": [
        "def evaluateRandomly(encoder, decoder, n=10):\n",
        "    for i in range(n):\n",
        "        pair = random.choice(pairs)\n",
        "        print('>', pair[0])\n",
        "        print('=', pair[1])\n",
        "        output_words, attentions = evaluate(encoder, decoder, pair[0])\n",
        "        output_sentence = ' '.join(output_words)\n",
        "        print('<', output_sentence)\n",
        "        print('')"
      ],
      "metadata": {
        "id": "qXoWu8oVEDo_"
      },
      "execution_count": null,
      "outputs": []
    },
    {
      "cell_type": "code",
      "source": [
        "hidden_size = 300\n",
        "encoder = EncoderRNN(input_lang.n_words, hidden_size).to(device)\n",
        "attn_decoder = AttnDecoderRNN(hidden_size, output_lang.n_words, dropout_p=0.1).to(device)\n",
        "\n",
        "tl = trainIters(encoder, attn_decoder, 120)"
      ],
      "metadata": {
        "colab": {
          "base_uri": "https://localhost:8080/",
          "height": 1000
        },
        "id": "6RFd-5BOFDj3",
        "outputId": "25022c02-2cae-43ba-f9a3-b8ee546f7ed5"
      },
      "execution_count": null,
      "outputs": [
        {
          "output_type": "stream",
          "name": "stdout",
          "text": [
            "Training....\n",
            "Checkpoint founded. Restoring...\n",
            "Continue from epoch 1200\n",
            "Epoch 1201: 0m 37s (- 73m 33s) (256 0%) 4.5734\n",
            "Epoch 1202: 1m 10s (- 69m 8s) (512 1%) 4.6078\n",
            "Epoch 1203: 1m 43s (- 67m 18s) (768 2%) 4.6800\n",
            "1000 / 30721\n",
            "Epoch 1204: 2m 16s (- 66m 5s) (1024 3%) 4.5277\n",
            "Epoch 1205: 2m 49s (- 65m 7s) (1280 4%) 4.6383\n",
            "Epoch 1206: 3m 23s (- 64m 17s) (1536 5%) 4.6486\n",
            "Epoch 1207: 3m 56s (- 63m 30s) (1792 5%) 4.3551\n",
            "2000 / 30721\n",
            "Epoch 1208: 4m 29s (- 62m 51s) (2048 6%) 4.4771\n",
            "Epoch 1209: 5m 2s (- 62m 9s) (2304 7%) 4.5625\n",
            "Epoch 1210: 5m 35s (- 61m 28s) (2560 8%) 4.5043\n",
            "Epoch 1211: 6m 8s (- 60m 50s) (2816 9%) 4.5616\n",
            "3000 / 30721\n",
            "Epoch 1212: 6m 41s (- 60m 12s) (3072 10%) 4.4845\n",
            "Epoch 1213: 7m 14s (- 59m 39s) (3328 10%) 4.4885\n",
            "Epoch 1214: 7m 47s (- 59m 1s) (3584 11%) 4.5492\n",
            "Epoch 1215: 8m 20s (- 58m 22s) (3840 12%) 4.4650\n",
            "4000 / 30721\n",
            "Epoch 1216: 8m 53s (- 57m 45s) (4096 13%) 4.4502\n",
            "Epoch 1217: 9m 26s (- 57m 9s) (4352 14%) 4.4594\n",
            "Epoch 1218: 9m 59s (- 56m 34s) (4608 15%) 4.5648\n",
            "Epoch 1219: 10m 32s (- 55m 59s) (4864 15%) 4.6203\n",
            "5000 / 30721\n",
            "Epoch 1220: 11m 5s (- 55m 25s) (5120 16%) 4.4363\n",
            "Epoch 1221: 11m 37s (- 54m 50s) (5376 17%) 4.4083\n",
            "Epoch 1222: 12m 11s (- 54m 16s) (5632 18%) 4.5410\n",
            "Epoch 1223: 12m 43s (- 53m 41s) (5888 19%) 4.5695\n",
            "6000 / 30721\n",
            "Epoch 1224: 13m 17s (- 53m 8s) (6144 20%) 4.4757\n",
            "Epoch 1225: 13m 49s (- 52m 33s) (6400 20%) 4.4703\n",
            "Epoch 1226: 14m 22s (- 51m 59s) (6656 21%) 4.6731\n",
            "Epoch 1227: 14m 55s (- 51m 24s) (6912 22%) 4.4956\n",
            "7000 / 30721\n",
            "Epoch 1228: 15m 28s (- 50m 52s) (7168 23%) 4.4002\n",
            "Epoch 1229: 16m 1s (- 50m 18s) (7424 24%) 4.5311\n",
            "Epoch 1230: 16m 34s (- 49m 44s) (7680 25%) 4.4431\n",
            "Epoch 1231: 17m 7s (- 49m 11s) (7936 25%) 4.3998\n",
            "8000 / 30721\n",
            "Epoch 1232: 17m 40s (- 48m 37s) (8192 26%) 4.5480\n",
            "Epoch 1233: 18m 14s (- 48m 4s) (8448 27%) 4.4698\n",
            "Epoch 1234: 18m 47s (- 47m 31s) (8704 28%) 4.5791\n",
            "Epoch 1235: 19m 19s (- 46m 56s) (8960 29%) 4.5858\n",
            "9000 / 30721\n",
            "Epoch 1236: 19m 52s (- 46m 22s) (9216 30%) 4.4368\n",
            "Epoch 1237: 20m 25s (- 45m 49s) (9472 30%) 4.6145\n",
            "Epoch 1238: 20m 58s (- 45m 15s) (9728 31%) 4.5685\n",
            "Epoch 1239: 21m 31s (- 44m 42s) (9984 32%) 4.3911\n",
            "10000 / 30721\n",
            "Epoch 1240: 22m 4s (- 44m 8s) (10240 33%) 4.3915\n",
            "Epoch 1241: 22m 37s (- 43m 35s) (10496 34%) 4.4439\n",
            "Epoch 1242: 23m 10s (- 43m 2s) (10752 35%) 4.4838\n",
            "11000 / 30721\n",
            "Epoch 1243: 23m 43s (- 42m 29s) (11008 35%) 4.6009\n",
            "Epoch 1244: 24m 16s (- 41m 55s) (11264 36%) 4.3758\n",
            "Epoch 1245: 24m 49s (- 41m 22s) (11520 37%) 4.6625\n",
            "Epoch 1246: 25m 22s (- 40m 48s) (11776 38%) 4.5098\n",
            "12000 / 30721\n",
            "Epoch 1247: 25m 55s (- 40m 16s) (12032 39%) 4.4347\n",
            "Epoch 1248: 26m 28s (- 39m 42s) (12288 40%) 4.2869\n",
            "Epoch 1249: 27m 1s (- 39m 9s) (12544 40%) 4.4270\n",
            "Epoch 1250: 27m 34s (- 38m 35s) (12800 41%) 4.5584\n",
            "13000 / 30721\n",
            "Epoch 1251: 28m 7s (- 38m 2s) (13056 42%) 4.6160\n",
            "Epoch 1252: 28m 40s (- 37m 29s) (13312 43%) 4.5523\n",
            "Epoch 1253: 29m 13s (- 36m 56s) (13568 44%) 4.4378\n",
            "Epoch 1254: 29m 46s (- 36m 23s) (13824 45%) 4.5537\n",
            "14000 / 30721\n",
            "Epoch 1255: 30m 19s (- 35m 50s) (14080 45%) 4.4689\n",
            "Epoch 1256: 30m 52s (- 35m 17s) (14336 46%) 4.5880\n",
            "Epoch 1257: 31m 25s (- 34m 43s) (14592 47%) 4.3113\n",
            "Epoch 1258: 31m 58s (- 34m 11s) (14848 48%) 4.3634\n",
            "15000 / 30721\n",
            "Epoch 1259: 32m 31s (- 33m 37s) (15104 49%) 4.4397\n",
            "Epoch 1260: 33m 4s (- 33m 4s) (15360 50%) 4.5271\n",
            "Epoch 1261: 33m 37s (- 32m 31s) (15616 50%) 4.3171\n",
            "Epoch 1262: 34m 10s (- 31m 58s) (15872 51%) 4.2875\n",
            "16000 / 30721\n",
            "Epoch 1263: 34m 43s (- 31m 24s) (16128 52%) 4.4614\n",
            "Epoch 1264: 35m 16s (- 30m 52s) (16384 53%) 4.6076\n",
            "Epoch 1265: 35m 49s (- 30m 19s) (16640 54%) 4.5638\n",
            "Epoch 1266: 36m 22s (- 29m 45s) (16896 55%) 4.4244\n",
            "17000 / 30721\n",
            "Epoch 1267: 36m 55s (- 29m 12s) (17152 55%) 4.6200\n",
            "Epoch 1268: 37m 28s (- 28m 39s) (17408 56%) 4.3626\n",
            "Epoch 1269: 38m 1s (- 28m 6s) (17664 57%) 4.3838\n",
            "Epoch 1270: 38m 34s (- 27m 33s) (17920 58%) 4.4807\n",
            "18000 / 30721\n",
            "Epoch 1271: 39m 7s (- 26m 59s) (18176 59%) 4.5018\n",
            "Epoch 1272: 39m 40s (- 26m 26s) (18432 60%) 4.6368\n",
            "Epoch 1273: 40m 13s (- 25m 53s) (18688 60%) 4.6872\n",
            "Epoch 1274: 40m 46s (- 25m 20s) (18944 61%) 4.4814\n",
            "19000 / 30721\n",
            "Epoch 1275: 41m 19s (- 24m 47s) (19200 62%) 4.3537\n",
            "Epoch 1276: 41m 52s (- 24m 14s) (19456 63%) 4.4375\n",
            "Epoch 1277: 42m 25s (- 23m 41s) (19712 64%) 4.3748\n",
            "Epoch 1278: 42m 58s (- 23m 8s) (19968 65%) 4.3156\n",
            "20000 / 30721\n",
            "Epoch 1279: 43m 31s (- 22m 35s) (20224 65%) 4.5844\n",
            "Epoch 1280: 44m 4s (- 22m 2s) (20480 66%) 4.4325\n",
            "Epoch 1281: 44m 37s (- 21m 29s) (20736 67%) 4.3277\n",
            "Epoch 1282: 45m 10s (- 20m 56s) (20992 68%) 4.3750\n",
            "21000 / 30721\n",
            "Epoch 1283: 45m 43s (- 20m 22s) (21248 69%) 4.4848\n",
            "Epoch 1284: 46m 16s (- 19m 49s) (21504 70%) 4.3581\n",
            "Epoch 1285: 46m 48s (- 19m 16s) (21760 70%) 4.6035\n",
            "22000 / 30721\n",
            "Epoch 1286: 47m 21s (- 18m 43s) (22016 71%) 4.2340\n",
            "Epoch 1287: 47m 54s (- 18m 10s) (22272 72%) 4.4682\n",
            "Epoch 1288: 48m 27s (- 17m 37s) (22528 73%) 4.5605\n",
            "Epoch 1289: 49m 0s (- 17m 4s) (22784 74%) 4.4013\n",
            "23000 / 30721\n",
            "Epoch 1290: 49m 33s (- 16m 31s) (23040 75%) 4.3568\n",
            "Epoch 1291: 50m 6s (- 15m 58s) (23296 75%) 4.4712\n",
            "Epoch 1292: 50m 39s (- 15m 25s) (23552 76%) 4.5273\n",
            "Epoch 1293: 51m 12s (- 14m 52s) (23808 77%) 4.3473\n",
            "24000 / 30721\n",
            "Epoch 1294: 51m 45s (- 14m 18s) (24064 78%) 4.4844\n",
            "Epoch 1295: 52m 18s (- 13m 45s) (24320 79%) 4.4633\n",
            "Epoch 1296: 52m 51s (- 13m 12s) (24576 80%) 4.5635\n",
            "Epoch 1297: 53m 24s (- 12m 39s) (24832 80%) 4.5225\n",
            "25000 / 30721\n",
            "Epoch 1298: 53m 57s (- 12m 6s) (25088 81%) 4.4026\n",
            "Epoch 1299: 54m 30s (- 11m 33s) (25344 82%) 4.3990\n",
            "Epoch 1300: 55m 3s (- 11m 0s) (25600 83%) 4.3205\n",
            "Epoch 1301: 55m 36s (- 10m 27s) (25856 84%) 4.5359\n",
            "26000 / 30721\n",
            "Epoch 1302: 56m 8s (- 9m 54s) (26112 85%) 4.4345\n",
            "Epoch 1303: 56m 41s (- 9m 21s) (26368 85%) 4.3499\n",
            "Epoch 1304: 57m 14s (- 8m 48s) (26624 86%) 4.4258\n",
            "Epoch 1305: 57m 47s (- 8m 15s) (26880 87%) 4.5011\n",
            "27000 / 30721\n",
            "Epoch 1306: 58m 20s (- 7m 42s) (27136 88%) 4.4643\n",
            "Epoch 1307: 58m 53s (- 7m 9s) (27392 89%) 4.5861\n",
            "Epoch 1308: 59m 26s (- 6m 36s) (27648 90%) 4.4052\n",
            "Epoch 1309: 59m 59s (- 6m 3s) (27904 90%) 4.3612\n",
            "28000 / 30721\n",
            "Epoch 1310: 60m 32s (- 5m 30s) (28160 91%) 4.4249\n",
            "Epoch 1311: 61m 5s (- 4m 57s) (28416 92%) 4.4777\n",
            "Epoch 1312: 61m 38s (- 4m 24s) (28672 93%) 4.4785\n",
            "Epoch 1313: 62m 11s (- 3m 51s) (28928 94%) 4.4807\n",
            "29000 / 30721\n",
            "Epoch 1314: 62m 44s (- 3m 18s) (29184 95%) 4.5574\n",
            "Epoch 1315: 63m 16s (- 2m 45s) (29440 95%) 4.5137\n",
            "Epoch 1316: 63m 50s (- 2m 12s) (29696 96%) 4.3939\n",
            "Epoch 1317: 64m 23s (- 1m 39s) (29952 97%) 4.3622\n",
            "30000 / 30721\n",
            "Epoch 1318: 64m 56s (- 1m 6s) (30208 98%) 4.4186\n",
            "Epoch 1319: 65m 29s (- 0m 33s) (30464 99%) 4.5136\n",
            "Epoch 1320: 66m 2s (- 0m 0s) (30720 100%) 4.4284\n",
            "Saving final model\n"
          ]
        },
        {
          "output_type": "display_data",
          "data": {
            "text/plain": [
              "<Figure size 1440x720 with 1 Axes>"
            ],
            "image/png": "[encoded data removed]"
          },
          "metadata": {
            "needs_background": "light"
          }
        }
      ]
    },
    {
      "cell_type": "code",
      "source": [
        "evaluateRandomly(encoder, attn_decoder)"
      ],
      "metadata": {
        "colab": {
          "base_uri": "https://localhost:8080/"
        },
        "id": "gRvu79jhFG46",
        "outputId": "b790e7d2-be8f-4e0b-f61d-2658de64aa29"
      },
      "execution_count": null,
      "outputs": [
        {
          "output_type": "stream",
          "name": "stdout",
          "text": [
            "> residents kerala blamed media creating unnecessary panic leading decline tourists visiting state .  in kochi need panic area safe virus .  .  . however media portraying way tourists believe whole kerala affected local tourist guide said . \n",
            "= kerala locals blame media tourism falls due nipah\n",
            "< kerala media media media media sexual assault <EOS>\n",
            "\n",
            "> finance minister arun jaitley tuesday said assembly elections results bearing 2019 lok sabha polls although bjp leadership cadres pause analyse results take corrective steps .  stating results not expected lines added no one mislead victory defeat one person . \n",
            "= bjp take corrective steps 2019 polls jaitley\n",
            "< bjp polls take 2019 polls jaitley <EOS>\n",
            "\n",
            "> man maharashtra thane alleged staff odisha jagannath temple snatched gold chain sunday refused pay a huge amount money offering prayers .  victim lodged complaint police alleging priests demanded money name darshan manhandled temple premises . \n",
            "= temple staff grab man chain offering lot cash\n",
            "< maha man pay man chain money <EOS>\n",
            "\n",
            "> tata group reentering home appliances market 20 years joint venture voltas tata company turkey arcelik .  joint venture manufacture refrigerators microwave ovens washing machines dishwashers voltas beko brand reported investment 1000crore .  first manufacturing facility country set gujarat . \n",
            "= tata reenter fridge washing machine business 20yrs\n",
            "< tata home india india years india years <EOS>\n",
            "\n",
            "> uk supreme court ruled us documents leaked whistleblower organisation wikileaks admissible evidence .  refugees fighting return chagos islands cited wikileaks documents claiming uk planned turn islands marine park .  turning islands marine park would ban fishing affecting islanders livelihood return . \n",
            "= us docs leaked wikileaks used evidence uk sc\n",
            "< us wikileaks uk wikileaks us wikileaks <EOS>\n",
            "\n",
            "> justice ab singh jharkhand high court approved anticipatory bail petitions three persons condition deposit money kerala chief minister relief fund .  utpal ray accused cheating forgery asked pay 7000 two fraud accused asked pay 5000 bail . \n",
            "= judge asks 3 fraud accused donate kerala get bail\n",
            "< hc donates relief relief relief relief relief <EOS>\n",
            "\n",
            "> reliance jio said government suffered revenue shortfall 400 crore fy17 airtel vodafone idea violated licence norms .  jio claimed firms paid advance licence fee last quarter less stipulated amount .  jio added telecom department take action violating telcos includes financial penalties even licence revocation . \n",
            "= airtel vodafone idea caused 400 crore loss govt jio\n",
            "< airtel jio telcos telcos telcos jio telcos <EOS>\n",
            "\n",
            "> actress yami gautam stated harm endorsing fairness creams long hurting sentiments .  further talking endorsing fairness creams yami stated when talk individuality choice life decisions .  .  . i run career somebody else decision ideology . \n",
            "= harm fairness cream ads offensive yami\n",
            "< actress gets trolled web web <EOS>\n",
            "\n",
            "> paytm payments bank ceo renu satti recent interview talking paytm operating cost kyc  said we investing 500 million kyc operations itself .  also said aggressive kyc expansion india .  last week rbi released directions operations digital wallets prepaid payment instruments . \n",
            "= put 500 mn kyc operations paytm payments bank ceo\n",
            "< paytm payments bank ceo operations 500 mn paytm ceo <EOS>\n",
            "\n",
            "> uttar pradesh government issued notices six former chief ministers asking vacate government bungalows allotted them .  notice issued sp founder mulayam singh son akhilesh yadav bsp chief mayawati rajnath singh among others .  comes supreme court struck law granting permanent accommodation former cms . \n",
            "= issues notice 6 excms vacate govt bungalows\n",
            "< former notice issues 6 notice govt notice <EOS>\n",
            "\n"
          ]
        }
      ]
    },
    {
      "cell_type": "code",
      "source": [
        "evaluate(encoder, attn_decoder, \"inaugural laver cup played team europe team world prague .  team includes six players led team captain legend sport .  roger federer rafael nadal team europe play doubles match together team world sam querrey jack sock saturday . \", 90)"
      ],
      "metadata": {
        "colab": {
          "base_uri": "https://localhost:8080/"
        },
        "id": "OlzWmhuJ56NB",
        "outputId": "8d2e9dbe-f75b-4924-e9ae-de564d26f57b"
      },
      "execution_count": null,
      "outputs": [
        {
          "output_type": "execute_result",
          "data": {
            "text/plain": [
              "(['world', 'team', 'world', 'team', 'world', 'cup', 'team', '<EOS>'],\n",
              " tensor([[1.7273e-04, 2.7818e-04, 1.7024e-04, 5.8020e-05, 4.7630e-05, 3.7837e-05,\n",
              "          1.2337e-04, 9.1638e-05, 7.0810e-05, 2.1190e-04, 5.5196e-04, 1.5158e-04,\n",
              "          2.6998e-03, 9.8937e-01, 2.8671e-04, 2.8260e-04, 8.0392e-06, 8.9071e-05,\n",
              "          7.4513e-05, 3.4059e-05, 6.0960e-05, 6.0418e-05, 2.3834e-04, 3.0348e-04,\n",
              "          2.4462e-04, 2.2475e-04, 1.6435e-04, 4.8172e-05, 2.4105e-04, 6.5701e-05,\n",
              "          1.8973e-05, 1.0059e-04, 3.7275e-05, 9.3537e-05, 8.6138e-05, 4.5328e-05,\n",
              "          1.1730e-04, 4.2105e-05, 3.4629e-05, 3.7379e-05, 2.4156e-05, 1.8672e-05,\n",
              "          1.7115e-05, 1.9117e-05, 2.3321e-05, 1.7842e-05, 3.7720e-05, 2.0876e-05,\n",
              "          4.2450e-05, 2.8754e-05, 2.7454e-05, 1.6554e-05, 4.0424e-05, 1.0271e-04,\n",
              "          3.8855e-05, 3.3007e-05, 6.3863e-05, 3.9294e-05, 8.7033e-05, 6.8413e-05,\n",
              "          6.0509e-05, 5.9096e-05, 1.3019e-04, 4.7689e-05, 5.1459e-05, 7.5659e-05,\n",
              "          5.0156e-05, 9.3876e-05, 5.2888e-05, 4.8004e-05, 8.2366e-05, 6.0642e-05,\n",
              "          1.0112e-04, 3.4284e-05, 2.6085e-05, 6.3619e-05, 6.8100e-05, 4.0565e-05,\n",
              "          7.6778e-05, 7.6428e-05, 8.5578e-05, 1.2002e-04, 9.0976e-05, 1.0912e-04,\n",
              "          1.0172e-04, 9.3885e-05, 8.9225e-05, 4.2287e-05, 5.8286e-05, 6.1590e-05],\n",
              "         [9.7512e-03, 1.1695e-02, 4.4498e-03, 3.9237e-03, 6.0248e-03, 8.2597e-03,\n",
              "          2.9352e-03, 7.1589e-03, 8.4065e-03, 1.1689e-02, 2.0264e-02, 1.3994e-02,\n",
              "          6.2143e-03, 1.4367e-02, 3.4189e-03, 8.0109e-03, 3.4954e-03, 1.2784e-02,\n",
              "          1.2338e-02, 1.0351e-02, 9.6704e-03, 3.5445e-03, 5.7949e-03, 1.1131e-02,\n",
              "          9.3828e-03, 7.8480e-03, 9.8903e-03, 2.1048e-01, 6.2937e-03, 1.5573e-02,\n",
              "          3.7014e-03, 4.5620e-03, 3.4312e-03, 6.2059e-03, 3.7318e-03, 2.6031e-03,\n",
              "          4.2769e-03, 4.5640e-03, 1.7202e-03, 2.3962e-03, 1.2549e-03, 1.2135e-03,\n",
              "          1.4586e-03, 2.6936e-03, 3.0731e-03, 1.6349e-03, 4.6666e-03, 2.2036e-03,\n",
              "          3.1649e-03, 3.7237e-03, 5.5826e-03, 3.6029e-03, 7.4317e-03, 4.6503e-03,\n",
              "          1.3082e-02, 1.1939e-02, 1.4860e-02, 6.0421e-03, 1.9379e-02, 8.2753e-03,\n",
              "          1.4253e-02, 6.3658e-03, 1.2450e-02, 2.3540e-02, 9.2117e-03, 1.1414e-02,\n",
              "          2.1361e-02, 1.4860e-02, 1.0009e-02, 3.7689e-02, 6.6219e-03, 5.9207e-03,\n",
              "          1.2378e-02, 1.1357e-02, 2.8098e-03, 1.0128e-02, 3.7949e-03, 6.4143e-03,\n",
              "          2.2450e-02, 2.6244e-02, 1.3316e-02, 1.3141e-02, 1.3236e-02, 4.8771e-03,\n",
              "          1.1367e-02, 1.0092e-02, 9.5923e-03, 6.0931e-03, 9.6716e-03, 1.3079e-02],\n",
              "         [1.4332e-03, 5.3754e-04, 2.7076e-03, 8.0996e-04, 3.4063e-03, 1.1973e-03,\n",
              "          1.5101e-03, 2.5626e-03, 2.0537e-03, 1.8833e-03, 6.1917e-03, 8.8623e-03,\n",
              "          5.3098e-03, 1.4228e-01, 1.8340e-01, 1.3446e-02, 1.5122e-02, 1.0579e-02,\n",
              "          4.4359e-02, 1.3837e-02, 6.7120e-03, 8.0002e-03, 1.3753e-02, 2.7590e-03,\n",
              "          1.3808e-02, 3.0829e-03, 2.2381e-02, 3.3419e-01, 7.7885e-03, 1.6988e-03,\n",
              "          7.7427e-03, 3.8276e-03, 2.2240e-03, 6.5918e-03, 3.9624e-03, 4.3089e-03,\n",
              "          1.9632e-03, 1.8727e-03, 2.0877e-03, 6.1306e-04, 2.1515e-03, 1.3925e-03,\n",
              "          6.3123e-04, 5.0361e-04, 5.5006e-04, 5.2080e-04, 9.0707e-04, 1.5059e-03,\n",
              "          9.8498e-04, 9.7745e-04, 1.8310e-03, 8.0286e-04, 1.7802e-03, 1.6667e-03,\n",
              "          2.0519e-03, 2.0875e-03, 4.8522e-03, 1.0081e-03, 1.3811e-03, 5.1719e-03,\n",
              "          3.0313e-03, 9.1570e-04, 1.4216e-03, 1.8136e-03, 2.0730e-03, 3.1759e-03,\n",
              "          1.2440e-03, 3.9820e-03, 1.2038e-03, 2.2892e-03, 1.8066e-03, 1.3695e-03,\n",
              "          3.9264e-03, 1.5541e-03, 1.2352e-03, 1.6099e-03, 2.1285e-03, 1.3577e-03,\n",
              "          1.2859e-03, 9.8940e-04, 2.8938e-03, 1.5993e-03, 2.2814e-03, 1.4913e-03,\n",
              "          1.9390e-03, 2.0206e-03, 1.1407e-03, 1.7921e-03, 9.3710e-04, 1.8799e-03],\n",
              "         [7.2036e-04, 7.2519e-04, 6.3158e-04, 4.1406e-04, 6.9920e-04, 7.3154e-04,\n",
              "          4.1327e-04, 1.1695e-03, 1.2276e-03, 1.1954e-03, 2.3433e-03, 3.0100e-03,\n",
              "          1.8516e-03, 2.5595e-02, 7.2682e-03, 5.6343e-03, 1.1610e-02, 3.5136e-03,\n",
              "          1.1835e-02, 3.1244e-03, 2.2615e-03, 9.9409e-04, 1.2218e-03, 2.0874e-03,\n",
              "          2.9025e-03, 2.3201e-03, 3.5245e-03, 8.3948e-01, 2.6665e-03, 4.2469e-03,\n",
              "          1.6811e-03, 9.7390e-04, 7.3828e-04, 1.1688e-03, 1.0777e-03, 6.1811e-04,\n",
              "          6.1403e-04, 1.3074e-03, 3.8692e-04, 4.3806e-04, 3.7583e-04, 1.9762e-04,\n",
              "          2.5827e-04, 2.9172e-04, 2.7061e-04, 2.4943e-04, 4.8544e-04, 2.6449e-04,\n",
              "          2.2548e-04, 3.9727e-04, 4.0403e-04, 3.6630e-04, 6.1487e-04, 3.6382e-04,\n",
              "          8.7132e-04, 1.6372e-03, 1.2946e-03, 6.9074e-04, 1.3270e-03, 1.0828e-03,\n",
              "          1.6740e-03, 6.1739e-04, 1.1013e-03, 1.6598e-03, 6.3540e-04, 9.1843e-04,\n",
              "          2.8771e-03, 1.0819e-03, 1.0956e-03, 2.2604e-03, 5.0549e-04, 5.4676e-04,\n",
              "          7.6870e-04, 1.2790e-03, 6.5831e-04, 7.2692e-04, 8.1023e-04, 6.8564e-04,\n",
              "          1.5407e-03, 2.5561e-03, 2.0561e-03, 1.0934e-03, 1.2120e-03, 3.4718e-04,\n",
              "          9.2645e-04, 9.5313e-04, 8.8360e-04, 7.3213e-04, 5.6605e-04, 1.1414e-03],\n",
              "         [1.4341e-03, 6.1305e-04, 2.2221e-03, 1.0147e-03, 2.3780e-03, 1.4240e-03,\n",
              "          1.1248e-03, 2.6540e-03, 2.0029e-03, 1.6899e-03, 4.8428e-03, 8.6519e-03,\n",
              "          5.0519e-03, 1.2382e-01, 1.8083e-01, 2.0150e-02, 2.3930e-02, 1.0076e-02,\n",
              "          7.0853e-02, 1.1869e-02, 7.2478e-03, 1.2412e-02, 1.2632e-02, 3.4459e-03,\n",
              "          1.4536e-02, 3.6432e-03, 2.0122e-02, 3.2048e-01, 7.9803e-03, 1.9983e-03,\n",
              "          7.3480e-03, 4.3567e-03, 3.7588e-03, 5.6979e-03, 3.3327e-03, 3.7035e-03,\n",
              "          1.8019e-03, 1.7662e-03, 1.7240e-03, 5.2168e-04, 1.8050e-03, 1.0502e-03,\n",
              "          6.6518e-04, 6.3957e-04, 3.7570e-04, 5.7172e-04, 9.8567e-04, 1.2004e-03,\n",
              "          6.7724e-04, 1.0877e-03, 1.7212e-03, 6.1827e-04, 2.2881e-03, 1.3086e-03,\n",
              "          1.5916e-03, 2.1084e-03, 4.4725e-03, 8.2426e-04, 1.2238e-03, 4.2069e-03,\n",
              "          4.3870e-03, 7.5326e-04, 1.2568e-03, 1.9897e-03, 1.9234e-03, 2.9454e-03,\n",
              "          1.3409e-03, 3.7410e-03, 8.0048e-04, 2.2806e-03, 1.8817e-03, 1.3375e-03,\n",
              "          3.2401e-03, 1.1669e-03, 8.7719e-04, 1.3420e-03, 2.3869e-03, 9.0250e-04,\n",
              "          1.6921e-03, 9.0794e-04, 2.9910e-03, 1.9411e-03, 2.5713e-03, 1.0216e-03,\n",
              "          2.3426e-03, 2.1258e-03, 1.5167e-03, 1.2280e-03, 8.0657e-04, 1.7416e-03],\n",
              "         [3.3203e-03, 2.9834e-03, 2.0018e-03, 1.4004e-03, 2.1814e-03, 2.2629e-03,\n",
              "          1.0423e-03, 2.5376e-03, 2.8369e-03, 3.5251e-03, 3.6335e-03, 4.5587e-03,\n",
              "          3.5564e-03, 4.8796e-02, 1.6092e-02, 2.1017e-02, 1.2021e-02, 9.1281e-03,\n",
              "          4.5902e-02, 7.0878e-03, 5.5675e-03, 3.0701e-03, 3.0005e-03, 4.4693e-03,\n",
              "          5.3091e-03, 6.8386e-03, 5.1388e-03, 5.6957e-01, 7.0638e-03, 1.2734e-02,\n",
              "          4.8968e-03, 2.9404e-03, 2.6054e-03, 3.3499e-03, 1.8737e-03, 1.5497e-03,\n",
              "          2.0662e-03, 3.1466e-03, 1.0238e-03, 1.1865e-03, 9.7862e-04, 7.1261e-04,\n",
              "          7.5706e-04, 1.1230e-03, 8.6165e-04, 5.9738e-04, 1.3374e-03, 7.5952e-04,\n",
              "          7.9416e-04, 1.0550e-03, 1.7289e-03, 1.2504e-03, 2.6572e-03, 1.3206e-03,\n",
              "          2.8352e-03, 5.3930e-03, 3.9835e-03, 3.0439e-03, 8.7399e-03, 2.3531e-03,\n",
              "          4.8470e-03, 1.6495e-03, 4.1464e-03, 6.6206e-03, 2.3520e-03, 2.6215e-03,\n",
              "          9.7248e-03, 5.8396e-03, 3.9955e-03, 4.9478e-03, 2.0262e-03, 1.8468e-03,\n",
              "          2.7390e-03, 4.1782e-03, 1.5957e-03, 3.0280e-03, 2.2375e-03, 2.2065e-03,\n",
              "          5.6768e-03, 7.2416e-03, 5.7769e-03, 3.6358e-03, 4.7172e-03, 1.5235e-03,\n",
              "          3.1776e-03, 3.3144e-03, 3.8007e-03, 2.1575e-03, 2.4452e-03, 4.3638e-03],\n",
              "         [1.8226e-03, 2.3559e-03, 2.3585e-03, 1.8661e-03, 3.2230e-03, 5.9819e-03,\n",
              "          3.6575e-03, 2.4777e-03, 3.9629e-03, 2.3754e-03, 4.4540e-03, 8.6218e-03,\n",
              "          1.6632e-02, 1.4325e-01, 3.3172e-01, 1.1931e-01, 2.7479e-03, 3.4586e-03,\n",
              "          1.1935e-02, 9.9738e-03, 4.1484e-03, 9.4587e-03, 1.0735e-02, 1.5762e-03,\n",
              "          2.6265e-02, 3.8150e-03, 3.1161e-02, 1.8466e-02, 4.3894e-03, 8.8075e-03,\n",
              "          3.8275e-03, 2.2785e-03, 3.0034e-03, 2.8446e-03, 2.3673e-03, 6.0206e-03,\n",
              "          5.6900e-03, 4.6818e-03, 2.4022e-03, 1.0145e-03, 6.1297e-03, 9.2501e-04,\n",
              "          6.2746e-04, 8.2075e-04, 5.7304e-04, 4.9219e-04, 1.2623e-03, 9.2951e-04,\n",
              "          9.6916e-04, 1.2361e-03, 1.8740e-03, 6.2074e-04, 3.7918e-03, 3.8795e-03,\n",
              "          1.0566e-03, 3.6222e-03, 6.1609e-03, 2.5696e-03, 4.7397e-03, 2.4727e-03,\n",
              "          5.0958e-03, 2.0036e-03, 3.7825e-03, 4.3342e-03, 1.9521e-03, 3.7031e-03,\n",
              "          3.7866e-03, 6.2531e-03, 1.5140e-03, 2.5304e-03, 8.1805e-03, 1.8571e-03,\n",
              "          4.5962e-03, 1.3514e-03, 4.6608e-03, 4.8890e-03, 3.0245e-03, 3.7995e-03,\n",
              "          6.6448e-03, 2.5253e-03, 1.4435e-03, 2.5686e-03, 6.3035e-03, 2.9408e-03,\n",
              "          7.8641e-03, 4.5200e-03, 6.8476e-03, 4.8263e-03, 3.5399e-03, 2.7746e-03],\n",
              "         [4.4971e-03, 2.3093e-03, 6.8326e-03, 2.4014e-03, 6.2801e-03, 4.5655e-03,\n",
              "          2.7844e-03, 8.0386e-03, 5.6788e-03, 3.3338e-03, 1.4590e-02, 1.3815e-02,\n",
              "          1.0187e-02, 2.5926e-02, 6.7920e-02, 2.3039e-02, 1.0462e-02, 3.0311e-02,\n",
              "          9.8132e-02, 3.1576e-02, 1.6564e-02, 2.9955e-02, 2.3775e-02, 6.0953e-03,\n",
              "          1.4603e-02, 7.3953e-03, 4.5246e-02, 4.3571e-02, 1.1915e-02, 5.1771e-03,\n",
              "          1.8964e-02, 8.3123e-03, 8.4395e-03, 1.1069e-02, 6.6106e-03, 8.0714e-03,\n",
              "          3.7147e-03, 3.7734e-03, 4.9053e-03, 1.5994e-03, 4.8685e-03, 2.9485e-03,\n",
              "          2.0746e-03, 1.9655e-03, 1.4803e-03, 1.4866e-03, 2.8584e-03, 4.6509e-03,\n",
              "          2.0014e-03, 3.9462e-03, 8.3558e-03, 2.9998e-03, 6.0375e-03, 4.5425e-03,\n",
              "          4.8803e-03, 6.6145e-03, 2.0180e-02, 4.8398e-03, 7.4130e-03, 1.9774e-02,\n",
              "          1.2959e-02, 3.2075e-03, 6.6151e-03, 8.6492e-03, 7.1233e-03, 1.0054e-02,\n",
              "          6.6141e-03, 1.0416e-02, 3.2448e-03, 9.8885e-03, 1.1668e-02, 5.6018e-03,\n",
              "          1.8945e-02, 5.2550e-03, 3.2840e-03, 5.1904e-03, 1.0975e-02, 3.7017e-03,\n",
              "          5.8440e-03, 5.9668e-03, 1.5057e-02, 6.9440e-03, 8.4244e-03, 8.8432e-03,\n",
              "          1.4430e-02, 6.4952e-03, 4.5614e-03, 3.2660e-03, 3.9455e-03, 6.4764e-03]]))"
            ]
          },
          "metadata": {},
          "execution_count": 54
        }
      ]
    }
  ]
}